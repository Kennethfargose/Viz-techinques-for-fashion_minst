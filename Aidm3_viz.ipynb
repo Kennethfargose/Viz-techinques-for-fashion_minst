{
  "nbformat": 4,
  "nbformat_minor": 0,
  "metadata": {
    "colab": {
      "private_outputs": true,
      "provenance": [],
      "include_colab_link": true
    },
    "kernelspec": {
      "name": "python3",
      "display_name": "Python 3"
    },
    "language_info": {
      "name": "python"
    }
  },
  "cells": [
    {
      "cell_type": "markdown",
      "metadata": {
        "id": "view-in-github",
        "colab_type": "text"
      },
      "source": [
        "<a href=\"https://colab.research.google.com/github/Kennethfargose/Viz-techinques-for-fashion_minst/blob/main/Aidm3_viz.ipynb\" target=\"_parent\"><img src=\"https://colab.research.google.com/assets/colab-badge.svg\" alt=\"Open In Colab\"/></a>"
      ]
    },
    {
      "cell_type": "code",
      "execution_count": null,
      "metadata": {
        "id": "_shXgH2-BQUe"
      },
      "outputs": [],
      "source": [
        "import numpy as np \n",
        "import pandas as pd \n",
        "import seaborn as sns\n",
        "import plotly.express as pex\n",
        "import matplotlib.pyplot as plt\n",
        "%matplotlib inline\n",
        "import matplotlib as mpl\n",
        "from sklearn.decomposition import PCA\n",
        "from sklearn.model_selection import train_test_split\n",
        "from sklearn.preprocessing import MinMaxScaler\n",
        "from matplotlib.offsetbox import AnnotationBbox, OffsetImage\n",
        "from sklearn.pipeline import Pipeline\n",
        "from sklearn.manifold import LocallyLinearEmbedding\n",
        "from sklearn.manifold import TSNE\n"
      ]
    },
    {
      "cell_type": "code",
      "source": [
        "from google.colab import drive\n",
        "drive.mount('/content/drive')"
      ],
      "metadata": {
        "id": "yQ7FajJwpXKr"
      },
      "execution_count": null,
      "outputs": []
    },
    {
      "cell_type": "code",
      "source": [
        "d = pd.read_csv('/content/drive/MyDrive/fashion-mnist_train.csv')\n",
        "d.head()"
      ],
      "metadata": {
        "id": "OBsCz6gOCFFz"
      },
      "execution_count": null,
      "outputs": []
    },
    {
      "cell_type": "code",
      "source": [
        "\n",
        "\n",
        "X, y = d.iloc[:, 1:].to_numpy(), d.iloc[:, 0].to_numpy()\n",
        "X_train, X_test, y_train, y_test = train_test_split(X, y, test_size=0.39, random_state=40)\n"
      ],
      "metadata": {
        "id": "wHDQLsc9Crsa"
      },
      "execution_count": null,
      "outputs": []
    },
    {
      "cell_type": "code",
      "source": [
        "class_names = ['T-shirt/top', 'Trouser', 'Pullover', 'Dress', 'Coat',\n",
        "               'Sandal', 'Shirt', 'Sneaker', 'Bag', 'Ankle boot']\n",
        "\n"
      ],
      "metadata": {
        "id": "_B2vJv1ZDa6d"
      },
      "execution_count": null,
      "outputs": []
    },
    {
      "cell_type": "code",
      "source": [
        "\n",
        "def plot_digits(X, y, min_distance=0.05, images=None, figsize=(13, 10)):\n",
        "    # Let's scale the input features so that they range from 0 to 1\n",
        "    X_normalized = MinMaxScaler().fit_transform(X)\n",
        "    # Now we create the list of coordinates of the digits plotted so far.\n",
        "    # We pretend that one is already plotted far away at the start, to\n",
        "    # avoid `if` statements in the loop below\n",
        "    neighbors = np.array([[10., 10.]])\n",
        "    # The rest should be self-explanatory\n",
        "    plt.figure(figsize=figsize)\n",
        "    cmap = mpl.cm.get_cmap(\"prism\")\n",
        "    digits = np.unique(y)\n",
        "    for digit in digits:\n",
        "        plt.scatter(X_normalized[y == digit, 0], X_normalized[y == digit, 1], c=[cmap(digit / 9)])\n",
        "    plt.axis(\"off\")\n",
        "    ax = plt.gcf().gca()  # get current axes in current figure\n",
        "    for index, image_coord in enumerate(X_normalized):\n",
        "        closest_distance = np.linalg.norm(np.array(neighbors) - image_coord, axis=1).min()\n",
        "        if closest_distance > min_distance:\n",
        "            neighbors = np.r_[neighbors, [image_coord]]\n",
        "            if images is None:\n",
        "                plt.text(image_coord[0], image_coord[1], str(int(y[index])),\n",
        "                         color=cmap(y[index] / 9), fontdict={\"weight\": \"bold\", \"size\": 16})\n",
        "            else:\n",
        "                image = images[index].reshape(28, 28)\n",
        "                imagebox = AnnotationBbox(OffsetImage(image, cmap=\"binary\"), image_coord)\n",
        "                ax.add_artist(imagebox)"
      ],
      "metadata": {
        "id": "mGltc9enMmRd"
      },
      "execution_count": null,
      "outputs": []
    },
    {
      "cell_type": "code",
      "source": [],
      "metadata": {
        "id": "JDKEzjV_tv97"
      },
      "execution_count": null,
      "outputs": []
    },
    {
      "cell_type": "code",
      "source": [
        "X_pca = PCA(n_components=2, random_state=42).fit_transform(X_train)\n",
        "plot_digits(X_pca, y_train)\n",
        "plt.show()\n"
      ],
      "metadata": {
        "id": "5SHyj6KDMqqi"
      },
      "execution_count": null,
      "outputs": []
    },
    {
      "cell_type": "code",
      "source": [
        "\n",
        "\n",
        "pca_lle = Pipeline([\n",
        "    (\"pca\", PCA(n_components=0.94, random_state=40)),\n",
        "    (\"lle\", LocallyLinearEmbedding(n_components=2, random_state=40)),\n",
        "])\n",
        "X_pca_lle = pca_lle.fit_transform(X_train)\n",
        "plot_digits(X_pca_lle, y_train)\n",
        "plt.show()\n"
      ],
      "metadata": {
        "id": "UFq3T89hM0-y"
      },
      "execution_count": null,
      "outputs": []
    },
    {
      "cell_type": "code",
      "source": [
        "\n",
        "\n",
        "pca_tsne = Pipeline([\n",
        "    (\"pca\", PCA(n_components=0.94, random_state=40)),\n",
        "    (\"tsne\", TSNE(n_components=2, random_state=40)),\n",
        "])\n",
        "X_pca_tsne = pca_tsne.fit_transform(X_train)\n",
        "plot_digits(X_pca_tsne, y_train)\n",
        "plt.show()\n"
      ],
      "metadata": {
        "id": "vaz05Ou0M7HD"
      },
      "execution_count": null,
      "outputs": []
    },
    {
      "cell_type": "code",
      "source": [
        "from sklearn.decomposition import KernelPCA\n",
        "from sklearn.manifold import TSNE"
      ],
      "metadata": {
        "id": "VNt0d1vIty4c"
      },
      "execution_count": null,
      "outputs": []
    },
    {
      "cell_type": "code",
      "source": [
        "k_pca_tsne = Pipeline([\n",
        "    (\"kpca\", KernelPCA(n_components=2, kernel='poly', random_state=42)),\n",
        "    (\"tsne\", TSNE(n_components=2, random_state=42)),\n",
        "])\n",
        "X_pca_tsne_k= k_pca_tsne.fit_transform(X_train)\n",
        "plot_digits(X_pca_tsne_k, y_train)\n",
        "plt.show()\n"
      ],
      "metadata": {
        "id": "k9gryMV6t0Br"
      },
      "execution_count": null,
      "outputs": []
    }
  ]
}